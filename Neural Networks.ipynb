{
 "cells": [
  {
   "cell_type": "code",
   "execution_count": 80,
   "metadata": {
    "collapsed": true
   },
   "outputs": [],
   "source": [
    "%matplotlib inline\n",
    "import matplotlib.pyplot as plt\n",
    "import numpy as np\n",
    "import seaborn as sns\n",
    "import scipy as sp\n",
    "import pandas as pd\n",
    "from sklearn import datasets\n",
    "from numpy import linalg as LA\n",
    "from sklearn.metrics.pairwise import pairwise_distances\n",
    "import sys\n",
    "from sklearn import linear_model\n",
    "import math"
   ]
  },
  {
   "cell_type": "code",
   "execution_count": 81,
   "metadata": {
    "collapsed": true
   },
   "outputs": [],
   "source": [
    "def neural_network(x,y,alpha,no_of_HL,no_of_units_HL):\n",
    "    total_no_of_layers = no_of_HL + 2\n",
    "    all_activation = {}\n",
    "    \n",
    "    cost_series = []\n",
    "    activation = x  \n",
    "    bais = np.array([1])      #creating the bais value\n",
    "    activation = np.append(bais,activation)\n",
    "    activation = (activation[np.newaxis]).T \n",
    "    all_activation[1] = activation\n",
    "    all_theta = {}\n",
    "    delta = {}\n",
    "    BIG_DELTA = {}\n",
    "    theta_history = []\n",
    "    \n",
    "    for k in range(1,total_no_of_layers):\n",
    "         #calculating the size theta_matrix\n",
    "        sj = activation.size-1\n",
    "        sj_1 = no_of_units_HL[k-1]\n",
    "        theta_size = sj_1 * (sj+1)\n",
    "        theta = np.random.uniform(0,1,theta_size)\n",
    "        theta = theta.reshape(sj_1,(sj+1))\n",
    "        all_theta[k] = theta\n",
    "        \n",
    "    theta_history.append(all_theta.copy())\n",
    "    \n",
    "    for a in range(1,400):\n",
    "        #Forward Propogation\n",
    "        for k in range(1,total_no_of_layers):\n",
    "            z = np.matmul(all_theta[k],all_activation[k])  #z = h_theta_of_x i.e. theta*x\n",
    "            activation = sigmoid(z)\n",
    "            bais = np.array([1])      #creating the bais value\n",
    "            activation = np.append(bais,activation)\n",
    "            activation = (activation[np.newaxis]).T       #converting activation into column matrix\n",
    "            all_activation[k+1] = activation\n",
    "\n",
    "        #back propogation\n",
    "\n",
    "        #calculating delta for last layer\n",
    "        delta[total_no_of_layers] = all_activation[total_no_of_layers][1:3,:] - y.T\n",
    "\n",
    "        #calculating delta for other layers (lowest delta possible is 2)\n",
    "        for l in range(total_no_of_layers-1, 1, -1):\n",
    "            delta[l] = np.multiply(np.matmul(all_theta[l].T,delta[l+1]),(all_activation[l]*(1-all_activation[l])))\n",
    "            delta[l] = delta[l][1:3,:]\n",
    "\n",
    "         #cost in this iteration\n",
    "        cost = np.sum(delta[total_no_of_layers]**2)/2\n",
    "        cost_series.append(cost)\n",
    "\n",
    "        #calculating BIG_delta - theta gradient  (it represents the direction of slope)\n",
    "        for l in range(total_no_of_layers-1, 0, -1):\n",
    "            tri_delta = np.matmul(delta[l+1],all_activation[l].T)\n",
    "            BIG_DELTA[l] = tri_delta\n",
    "            \n",
    "        for l in range(total_no_of_layers-1, 0, -1):\n",
    "            all_theta[l] = all_theta[l] - (alpha * BIG_DELTA[l])\n",
    "        \n",
    "        theta_history.append(all_theta.copy())\n",
    "        \n",
    "        print(all_activation[total_no_of_layers])\n",
    "    \n",
    "    return cost_series,theta_history\n",
    "    \n",
    "def sigmoid (x):\n",
    "    return 1/(1 + np.exp(-x))"
   ]
  },
  {
   "cell_type": "code",
   "execution_count": 25,
   "metadata": {
    "collapsed": true
   },
   "outputs": [],
   "source": []
  },
  {
   "cell_type": "code",
   "execution_count": 26,
   "metadata": {},
   "outputs": [],
   "source": [
    "data = iris_raw.data\n",
    "y = iris_raw.target"
   ]
  },
  {
   "cell_type": "code",
   "execution_count": 27,
   "metadata": {},
   "outputs": [
    {
     "name": "stdout",
     "output_type": "stream",
     "text": [
      "1\n",
      "2\n"
     ]
    }
   ],
   "source": [
    "for k in range(1,3):\n",
    "    print(k)"
   ]
  },
  {
   "cell_type": "code",
   "execution_count": 267,
   "metadata": {},
   "outputs": [],
   "source": [
    "def artificial_neural_network(x,y,alpha,no_of_HL,no_of_units_HL):\n",
    "    total_no_of_layers = no_of_HL + 2\n",
    "    all_activation = {}\n",
    "    BIG_DELTA = init()\n",
    "    cost_series = []\n",
    "    all_theta = {}\n",
    "    delta = {}\n",
    "    j_local = 0\n",
    "    theta_gradient = {}\n",
    "    \n",
    "    #initialising theta\n",
    "    all_theta = initialise_theta(x,no_of_units_HL,total_no_of_layers)\n",
    "    \n",
    "    \n",
    "    for skip in range(0,100):\n",
    "        x_test = x[skip]\n",
    "        x_train = np.delete(x, (skip), axis=0)\n",
    "        y_test = y[skip]\n",
    "        y_train = np.delete(y, (skip), axis=0)\n",
    "        for iteration in range(0,100):    \n",
    "            # initialising big delta matrix\n",
    "            BIG_DELTA = init()\n",
    "        \n",
    "            for itr in range(0,99):\n",
    "                #forward propogate\n",
    "                all_activation = calculate_all_activation(x_train[itr],all_theta,3)\n",
    "\n",
    "                #calculate error in each layer\n",
    "                delta = calcualte_delta(3,all_activation,y_train[itr],all_theta)\n",
    "\n",
    "                #Cost function\n",
    "                a3 = np.asscalar((all_activation[total_no_of_layers])[1,:])\n",
    "                j_local = j_local + (y_train[itr]*math.log10(a3) + ((1-y_train[itr])*math.log10(1-a3)))\n",
    "\n",
    "                #calculating BIG_delta -> theta gradient  (it represents the direction of slope)\n",
    "                for l in range(total_no_of_layers-1, 0, -1):\n",
    "                    tri_delta = np.matmul(delta[l+1],all_activation[l].T)\n",
    "                    BIG_DELTA[l] = BIG_DELTA[l] + tri_delta\n",
    "            \n",
    "            for l in range(total_no_of_layers-1, 0, -1):\n",
    "                theta_gradient[l] = BIG_DELTA[l]/99\n",
    "            \n",
    "            #Computing theta by subtracting theta gradient\n",
    "            for l in range(total_no_of_layers-1, 0, -1):\n",
    "                all_theta[l] = all_theta[l] - (alpha * theta_gradient[l])\n",
    "\n",
    "            #appending the cost to cost_series\n",
    "            cost_series.append(-(j_local/99))\n",
    "            j_local = 0\n",
    "        \n",
    "    op = []\n",
    "    for sample in range(0,100):\n",
    "        all_activation = calculate_all_activation(x[sample],all_theta,3)\n",
    "        if(all_activation[3][1,:]>=0.5):\n",
    "            op.append(1)\n",
    "        else:\n",
    "            op.append(0)\n",
    "    return cost_series,op\n",
    "\n"
   ]
  },
  {
   "cell_type": "code",
   "execution_count": 269,
   "metadata": {
    "collapsed": true
   },
   "outputs": [],
   "source": [
    "def init():\n",
    "    BIG_DELTA = {}\n",
    "    BIG_DELTA[1] = np.zeros(6).reshape(2,3)\n",
    "    BIG_DELTA[2] = np.zeros(3).reshape(1,3)\n",
    "    return BIG_DELTA\n",
    "\n",
    "def calculate_all_activation(x,all_theta,total_no_of_layers):\n",
    "    all_activation = {}\n",
    "    activation = x  \n",
    "    bais = np.array([1])      #creating the bais value\n",
    "    activation = np.append(bais,activation)\n",
    "    activation = (activation[np.newaxis]).T \n",
    "    all_activation[1] = activation\n",
    "    for k in range(1,total_no_of_layers):\n",
    "        z = np.matmul(all_theta[k],all_activation[k])  #z = h_theta_of_x i.e. theta*x\n",
    "        activation = sigmoid(z)\n",
    "        bais = np.array([1])      #creating the bais value\n",
    "        activation = np.append(bais,activation)\n",
    "        activation = (activation[np.newaxis]).T       #converting activation into column matrix\n",
    "        all_activation[k+1] = activation\n",
    "    return all_activation\n",
    "\n",
    "def calcualte_delta(total_no_of_layers,all_activation,y,all_theta):\n",
    "    delta = {}\n",
    "    #calculating delta for last layer\n",
    "    delta[total_no_of_layers] = all_activation[total_no_of_layers][1,:] - y.T\n",
    "\n",
    "    #calculating delta for other layers (lowest delta possible is 2)\n",
    "    for l in range(total_no_of_layers-1, 1, -1):\n",
    "        temp = np.array(np.matmul(all_theta[l].T,delta[l+1]))\n",
    "        temp = (temp[np.newaxis]).T \n",
    "        delta[l] = np.multiply(temp,(all_activation[l]*(1-all_activation[l])))\n",
    "        delta[l] = delta[l][1:3,:]\n",
    "    return delta\n",
    "\n",
    "def initialise_theta(x,no_of_units_HL,total_no_of_layers):\n",
    "    all_theta = {}\n",
    "    activation = x[1]  \n",
    "    bais = np.array([1])      #creating the bais value\n",
    "    activation = np.append(bais,activation)\n",
    "    activation = (activation[np.newaxis]).T \n",
    "    for k in range(1,total_no_of_layers):\n",
    "         #calculating the size theta_matrix\n",
    "        sj = activation.size-1\n",
    "        sj_1 = no_of_units_HL[k-1]\n",
    "        theta_size = sj_1 * (sj+1)\n",
    "        np.random.seed(25)\n",
    "        theta = np.random.uniform(0,1,theta_size)\n",
    "        theta = theta.reshape(sj_1,(sj+1))\n",
    "        all_theta[k] = theta\n",
    "    return all_theta"
   ]
  },
  {
   "cell_type": "code",
   "execution_count": 176,
   "metadata": {},
   "outputs": [],
   "source": [
    "from sklearn import datasets\n",
    "iris_raw = datasets.load_iris()\n",
    "x = iris_raw.data[:,-2:][50:]\n",
    "y = iris_raw.target[50:]"
   ]
  },
  {
   "cell_type": "code",
   "execution_count": 171,
   "metadata": {},
   "outputs": [],
   "source": []
  },
  {
   "cell_type": "code",
   "execution_count": 177,
   "metadata": {},
   "outputs": [
    {
     "data": {
      "text/plain": [
       "array([0, 0, 0, 0, 0, 0, 0, 0, 0, 0, 0, 0, 0, 0, 0, 0, 0, 0, 0, 0, 0, 0, 0,\n",
       "       0, 0, 0, 0, 0, 0, 0, 0, 0, 0, 0, 0, 0, 0, 0, 0, 0, 0, 0, 0, 0, 0, 0,\n",
       "       0, 0, 0, 0, 2, 2, 2, 2, 2, 2, 2, 2, 2, 2, 2, 2, 2, 2, 2, 2, 2, 2, 2,\n",
       "       2, 2, 2, 2, 2, 2, 2, 2, 2, 2, 2, 2, 2, 2, 2, 2, 2, 2, 2, 2, 2, 2, 2,\n",
       "       2, 2, 2, 2, 2, 2, 2, 2])"
      ]
     },
     "execution_count": 177,
     "metadata": {},
     "output_type": "execute_result"
    }
   ],
   "source": [
    "y[y==1] = 0\n",
    "y"
   ]
  },
  {
   "cell_type": "code",
   "execution_count": 258,
   "metadata": {},
   "outputs": [
    {
     "data": {
      "text/plain": [
       "array([0, 0, 0, 0, 0, 0, 0, 0, 0, 0, 0, 0, 0, 0, 0, 0, 0, 0, 0, 0, 0, 0, 0,\n",
       "       0, 0, 0, 0, 0, 0, 0, 0, 0, 0, 0, 0, 0, 0, 0, 0, 0, 0, 0, 0, 0, 0, 0,\n",
       "       0, 0, 0, 0, 1, 1, 1, 1, 1, 1, 1, 1, 1, 1, 1, 1, 1, 1, 1, 1, 1, 1, 1,\n",
       "       1, 1, 1, 1, 1, 1, 1, 1, 1, 1, 1, 1, 1, 1, 1, 1, 1, 1, 1, 1, 1, 1, 1,\n",
       "       1, 1, 1, 1, 1, 1, 1, 1])"
      ]
     },
     "execution_count": 258,
     "metadata": {},
     "output_type": "execute_result"
    }
   ],
   "source": [
    "y"
   ]
  },
  {
   "cell_type": "code",
   "execution_count": 268,
   "metadata": {},
   "outputs": [],
   "source": [
    "no_of_units_HL = np.array([2,1])\n",
    "cost,op = artificial_neural_network(x,y,0.1,1,no_of_units_HL)"
   ]
  },
  {
   "cell_type": "code",
   "execution_count": 274,
   "metadata": {},
   "outputs": [
    {
     "data": {
      "text/plain": [
       "<matplotlib.collections.PathCollection at 0x1a1a5f49e8>"
      ]
     },
     "execution_count": 274,
     "metadata": {},
     "output_type": "execute_result"
    },
    {
     "data": {
      "image/png": "[encoded data removed]",
      "text/plain": [
       "<matplotlib.figure.Figure at 0x1a1a53dc50>"
      ]
     },
     "metadata": {},
     "output_type": "display_data"
    }
   ],
   "source": [
    "fig = plt.figure()\n",
    "fig.suptitle('Cost v/s iteration')\n",
    "ax = fig.add_subplot(1,1,1)\n",
    "ax.set_xlabel('Iteration')\n",
    "ax.set_ylabel('Cost')\n",
    "ax.scatter(np.arange(0,10000),cost, c= 'b')"
   ]
  },
  {
   "cell_type": "code",
   "execution_count": 273,
   "metadata": {},
   "outputs": [
    {
     "data": {
      "text/plain": [
       "[0,\n",
       " 0,\n",
       " 0,\n",
       " 0,\n",
       " 0,\n",
       " 0,\n",
       " 0,\n",
       " 0,\n",
       " 0,\n",
       " 0,\n",
       " 0,\n",
       " 0,\n",
       " 0,\n",
       " 0,\n",
       " 0,\n",
       " 0,\n",
       " 0,\n",
       " 0,\n",
       " 0,\n",
       " 0,\n",
       " 1,\n",
       " 0,\n",
       " 0,\n",
       " 0,\n",
       " 0,\n",
       " 0,\n",
       " 0,\n",
       " 1,\n",
       " 0,\n",
       " 0,\n",
       " 0,\n",
       " 0,\n",
       " 0,\n",
       " 1,\n",
       " 0,\n",
       " 0,\n",
       " 0,\n",
       " 0,\n",
       " 0,\n",
       " 0,\n",
       " 0,\n",
       " 0,\n",
       " 0,\n",
       " 0,\n",
       " 0,\n",
       " 0,\n",
       " 0,\n",
       " 0,\n",
       " 0,\n",
       " 0,\n",
       " 1,\n",
       " 1,\n",
       " 1,\n",
       " 1,\n",
       " 1,\n",
       " 1,\n",
       " 0,\n",
       " 1,\n",
       " 1,\n",
       " 1,\n",
       " 1,\n",
       " 1,\n",
       " 1,\n",
       " 1,\n",
       " 1,\n",
       " 1,\n",
       " 1,\n",
       " 1,\n",
       " 1,\n",
       " 0,\n",
       " 1,\n",
       " 1,\n",
       " 1,\n",
       " 1,\n",
       " 1,\n",
       " 1,\n",
       " 1,\n",
       " 1,\n",
       " 1,\n",
       " 1,\n",
       " 1,\n",
       " 1,\n",
       " 1,\n",
       " 0,\n",
       " 1,\n",
       " 1,\n",
       " 1,\n",
       " 1,\n",
       " 1,\n",
       " 1,\n",
       " 1,\n",
       " 1,\n",
       " 1,\n",
       " 1,\n",
       " 1,\n",
       " 1,\n",
       " 1,\n",
       " 1,\n",
       " 1,\n",
       " 1]"
      ]
     },
     "execution_count": 273,
     "metadata": {},
     "output_type": "execute_result"
    }
   ],
   "source": [
    "op"
   ]
  },
  {
   "cell_type": "code",
   "execution_count": 277,
   "metadata": {},
   "outputs": [
    {
     "data": {
      "text/plain": [
       "0.50242791608459803"
      ]
     },
     "execution_count": 277,
     "metadata": {},
     "output_type": "execute_result"
    }
   ],
   "source": [
    "cost[10000-1]\n",
    "cost[0]"
   ]
  },
  {
   "cell_type": "code",
   "execution_count": null,
   "metadata": {},
   "outputs": [],
   "source": [
    "x = np.array((0.05,0.1))\n",
    "x"
   ]
  },
  {
   "cell_type": "code",
   "execution_count": null,
   "metadata": {},
   "outputs": [],
   "source": [
    "for skip in range(1,100):\n",
    "    print(skip)"
   ]
  },
  {
   "cell_type": "code",
   "execution_count": 76,
   "metadata": {
    "collapsed": true
   },
   "outputs": [],
   "source": [
    "x = np.array((0.05,0.1))\n",
    "x = np.array([x])\n",
    "x = x.T"
   ]
  },
  {
   "cell_type": "code",
   "execution_count": 78,
   "metadata": {},
   "outputs": [
    {
     "data": {
      "text/plain": [
       "array([ 0.1])"
      ]
     },
     "execution_count": 78,
     "metadata": {},
     "output_type": "execute_result"
    }
   ],
   "source": [
    "x[1,:]"
   ]
  },
  {
   "cell_type": "code",
   "execution_count": null,
   "metadata": {},
   "outputs": [],
   "source": []
  },
  {
   "cell_type": "code",
   "execution_count": null,
   "metadata": {
    "collapsed": true
   },
   "outputs": [],
   "source": []
  }
 ],
 "metadata": {
  "celltoolbar": "Raw Cell Format",
  "kernelspec": {
   "display_name": "Python 3",
   "language": "python",
   "name": "python3"
  },
  "language_info": {
   "codemirror_mode": {
    "name": "ipython",
    "version": 3
   },
   "file_extension": ".py",
   "mimetype": "text/x-python",
   "name": "python",
   "nbconvert_exporter": "python",
   "pygments_lexer": "ipython3",
   "version": "3.6.1"
  }
 },
 "nbformat": 4,
 "nbformat_minor": 2
}
